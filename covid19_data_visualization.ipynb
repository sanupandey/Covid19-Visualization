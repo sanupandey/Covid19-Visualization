{
 "cells": [
  {
   "cell_type": "code",
   "execution_count": null,
   "metadata": {},
   "outputs": [],
   "source": [
    "import pandas as pd\n",
    "import matplotlib.pyplot as plt\n",
    "import urllib.request, json "
   ]
  },
  {
   "cell_type": "code",
   "execution_count": null,
   "metadata": {},
   "outputs": [],
   "source": [
    "# Importing covid 19 latest available data\n",
    "with urllib.request.urlopen(\"https://api.covid19api.com/total/country/india\") as url:\n",
    "    data = json.loads(url.read().decode())\n",
    "\n",
    "# converting the data into Dataframe\n",
    "covid_india_data=pd.DataFrame(data)"
   ]
  },
  {
   "cell_type": "code",
   "execution_count": null,
   "metadata": {
    "scrolled": false
   },
   "outputs": [],
   "source": [
    "covid_india_data.tail()"
   ]
  },
  {
   "cell_type": "code",
   "execution_count": null,
   "metadata": {},
   "outputs": [],
   "source": [
    "# Creating calculated columns for 'Confirmed','Death','Recovered' cases\n",
    "covid_india_data[\"Calculate_Confirmed\"]=covid_india_data[\"Confirmed\"].diff()\n",
    "covid_india_data[\"Calculate_Death\"]=covid_india_data[\"Deaths\"].diff()\n",
    "covid_india_data[\"Calculate_Recovered\"]=covid_india_data[\"Recovered\"].diff()"
   ]
  },
  {
   "cell_type": "code",
   "execution_count": null,
   "metadata": {},
   "outputs": [],
   "source": [
    "# 7 days rolling average\n",
    "covid_india_data[\"Rolling_Confirmed\"]=covid_india_data[\"Calculate_Confirmed\"].rolling(window=7).mean()\n",
    "covid_india_data[\"Rolling_Death\"]=covid_india_data[\"Calculate_Death\"].rolling(window=7).mean()\n",
    "covid_india_data[\"Rolling_Recovered\"]=covid_india_data[\"Calculate_Recovered\"].rolling(window=7).mean()"
   ]
  },
  {
   "cell_type": "code",
   "execution_count": null,
   "metadata": {},
   "outputs": [],
   "source": [
    "# split Date column\n",
    "covid_india_data[\"Date\"]=covid_india_data[\"Date\"].str.split(\"T\",expand=True)[0]"
   ]
  },
  {
   "cell_type": "markdown",
   "metadata": {},
   "source": [
    "**Plotting Covid-19 Trend of Confirmed & Recovered Cases**"
   ]
  },
  {
   "cell_type": "code",
   "execution_count": null,
   "metadata": {},
   "outputs": [],
   "source": [
    "# figuresize\n",
    "plt.figure(figsize=(15,5),dpi=300)\n",
    "\n",
    "# bar graph for confirmed cases\n",
    "plt.bar(covid_india_data[\"Date\"],covid_india_data[\"Calculate_Confirmed\"],color='#abcdef',label=\"Confiermed Cases\")\n",
    "\n",
    "# line graph for 7 Days Rolling Recovered & Confirmed Cases Cases\n",
    "plt.plot(covid_india_data[\"Date\"][:-1],covid_india_data[\"Rolling_Recovered\"][:-1],color='#039129',label=\"7 Days Rolling Recovered Cases\")\n",
    "plt.plot(covid_india_data[\"Date\"][:-1],covid_india_data[\"Rolling_Confirmed\"][:-1],color='#031b91',label=\"7 Days Rolling Confirmed Cases\")\n",
    "\n",
    "# title, xlabel and ylabel\n",
    "plt.title(\"Covid-19 Trend of Confirmed & Recovered Cases\",fontsize=20)\n",
    "plt.xlabel(\"Date\",fontsize=12)\n",
    "plt.ylabel(\"Number of Cases\",fontsize=12)\n",
    "\n",
    "# grid and legend\n",
    "plt.grid()\n",
    "plt.legend()\n",
    "\n",
    "# plotting level for latest available day\n",
    "plt.text(covid_india_data[\"Date\"].iloc[-1],covid_india_data[\"Calculate_Confirmed\"].iloc[-1], int(covid_india_data[\"Calculate_Confirmed\"].iloc[-1]))\n",
    "plt.text(covid_india_data[\"Date\"].iloc[-1],covid_india_data[\"Rolling_Recovered\"].iloc[-1],int(covid_india_data[\"Rolling_Recovered\"].iloc[-1]))\n",
    "plt.text(covid_india_data[\"Date\"].iloc[-1],covid_india_data[\"Rolling_Confirmed\"].iloc[-1],int(covid_india_data[\"Rolling_Confirmed\"].iloc[-1]))\n",
    "\n",
    "# xtickes in gap of 7\n",
    "plt.xticks(covid_india_data[\"Date\"][::7])\n",
    "# rotating xticks\n",
    "plt.xticks(rotation=70)\n",
    "\n",
    "# saving figure\n",
    "plt.savefig(\"Covid Trend.jpg\",dpi=300)\n",
    "\n",
    "#show\n",
    "plt.show()"
   ]
  },
  {
   "cell_type": "markdown",
   "metadata": {},
   "source": [
    "**Plotting Covid-19 Trend of Death Cases**"
   ]
  },
  {
   "cell_type": "code",
   "execution_count": null,
   "metadata": {
    "scrolled": false
   },
   "outputs": [],
   "source": [
    "# figuresize\n",
    "plt.figure(figsize=(15,5),dpi=300)\n",
    "\n",
    "# bar graph for death cases\n",
    "plt.bar(covid_india_data[\"Date\"],covid_india_data[\"Calculate_Death\"],color='#f58762',label=\"Death Cases\")\n",
    "# line graph for 7 Days Rolling Death Cases\n",
    "plt.plot(covid_india_data[\"Date\"][:-1],covid_india_data[\"Rolling_Death\"][:-1],color='Red',label=\"7 Days Rolling Death Cases\")\n",
    "\n",
    "# title, xlabel and ylabel\n",
    "plt.title(\"Covid-19 Trend of Death Cases\",fontsize=20)\n",
    "plt.xlabel(\"Date\",fontsize=12)\n",
    "plt.ylabel(\"Number of Death Cases\",fontsize=12)\n",
    "\n",
    "# grid and legend\n",
    "plt.grid()\n",
    "plt.legend()\n",
    "\n",
    "# plotting level for latest available day\n",
    "plt.text(covid_india_data[\"Date\"].iloc[-1],covid_india_data[\"Rolling_Death\"].iloc[-1], int(covid_india_data[\"Rolling_Death\"].iloc[-1]))\n",
    "plt.text(covid_india_data[\"Date\"].iloc[-1],covid_india_data[\"Calculate_Death\"].iloc[-1],int(covid_india_data[\"Calculate_Death\"].iloc[-1]))\n",
    "\n",
    "# xtickes in gap of 7\n",
    "plt.xticks(covid_india_data[\"Date\"][::7])\n",
    "# rotating xticks\n",
    "plt.xticks(rotation=70)\n",
    "\n",
    "# saving figure\n",
    "plt.savefig(\"Covid Death Trend.jpg\",dpi=300)\n",
    "\n",
    "#show\n",
    "plt.show()"
   ]
  },
  {
   "cell_type": "markdown",
   "metadata": {},
   "source": [
    "Now we are plotting both the above graphs in a single frame usng subplot and also printing total number of confirmed,  recovered and death cases."
   ]
  },
  {
   "cell_type": "code",
   "execution_count": null,
   "metadata": {
    "scrolled": true
   },
   "outputs": [],
   "source": [
    "# figuresize\n",
    "fig, (ax1, ax2) = plt.subplots(nrows=2, ncols=1, sharex=True, figsize=(15, 5))\n",
    "\n",
    "# bar graph for confirmed cases\n",
    "ax1.bar(covid_india_data[\"Date\"],covid_india_data[\"Calculate_Confirmed\"],color='#abcdef',label=\"Confiermed Cases\")\n",
    "\n",
    "# line graph for 7 Days Rolling Recovered & Confirmed Cases Cases\n",
    "ax1.plot(covid_india_data[\"Date\"][:-1],covid_india_data[\"Rolling_Recovered\"][:-1],color='#039129',label=\"7 Days Rolling Recovered Cases\")\n",
    "ax1.plot(covid_india_data[\"Date\"][:-1],covid_india_data[\"Rolling_Confirmed\"][:-1],color='#031b91',label=\"7 Days Rolling Confirmed Cases\")\n",
    "\n",
    "# title\n",
    "ax1.set_title(\"Corona Trend\",fontsize=20)\n",
    "\n",
    "# grid, legend and ylabel\n",
    "ax1.grid()\n",
    "ax1.legend()\n",
    "ax1.set_ylabel(\"Number of Cases\",fontsize=12)\n",
    "\n",
    "# plotting level for latest available day\n",
    "ax1.text(covid_india_data[\"Date\"].iloc[-1],covid_india_data[\"Calculate_Confirmed\"].iloc[-1], int(covid_india_data[\"Calculate_Confirmed\"].iloc[-1]))\n",
    "ax1.text(covid_india_data[\"Date\"].iloc[-1],covid_india_data[\"Rolling_Recovered\"].iloc[-1],int(covid_india_data[\"Rolling_Recovered\"].iloc[-1]))\n",
    "ax1.text(covid_india_data[\"Date\"].iloc[-1],covid_india_data[\"Rolling_Confirmed\"].iloc[-1],int(covid_india_data[\"Rolling_Confirmed\"].iloc[-1]))\n",
    "\n",
    "######################################## second plot ########################################\n",
    "\n",
    "# bar graph for death cases\n",
    "ax2.bar(covid_india_data[\"Date\"],covid_india_data[\"Calculate_Death\"],color='#f58762',label=\"Death Cases\")\n",
    "\n",
    "# line graph for 7 Days Rolling Recovered & Confirmed Cases Cases\n",
    "ax2.plot(covid_india_data[\"Date\"][:-1],covid_india_data[\"Rolling_Death\"][:-1],color='Red',label=\"7 Days Rolling Death Cases\")\n",
    "\n",
    "# title\n",
    "ax2.set_title(\"Corona Death Trend\",fontsize=20)\n",
    "\n",
    "# grid, legend and ylabel\n",
    "ax2.grid()\n",
    "ax2.legend()\n",
    "ax2.set_ylabel(\"Number of Cases\",fontsize=12)\n",
    "\n",
    "# plotting level for latest available day\n",
    "ax2.text(covid_india_data[\"Date\"].iloc[-1],covid_india_data[\"Rolling_Death\"].iloc[-1], int(covid_india_data[\"Rolling_Death\"].iloc[-1]))\n",
    "ax2.text(covid_india_data[\"Date\"].iloc[-1],covid_india_data[\"Calculate_Death\"].iloc[-1],int(covid_india_data[\"Calculate_Death\"].iloc[-1]))\n",
    "\n",
    "# xtickes in gap of 7\n",
    "ax2.set_xticks(covid_india_data[\"Date\"][::7])\n",
    "# rotating xticks\n",
    "ax2.set_xticklabels(covid_india_data[\"Date\"][::7],rotation=70)\n",
    "\n",
    "# xlabel\n",
    "plt.xlabel(\"Date\",fontsize=12)\n",
    "\n",
    "# saving figure\n",
    "plt.savefig(\"Covid Combine Trends.jpg\",dpi=300)\n",
    "\n",
    "# show\n",
    "plt.show()\n",
    "\n",
    "# printing total confirmed, recovered and death cases\n",
    "print('\\033[1m','\\033[96m',\"Total number of confirm cases till date in India ->\",covid_india_data[\"Confirmed\"].iloc[-1])\n",
    "print('\\033[92m',\" Total number of recovered cases till date in India ->\",covid_india_data[\"Recovered\"].iloc[-1])\n",
    "print('\\033[91m',\" Total number of death till date in India ->\",covid_india_data[\"Deaths\"].iloc[-1])"
   ]
  }
 ],
 "metadata": {
  "kernelspec": {
   "display_name": "Python 3",
   "language": "python",
   "name": "python3"
  },
  "language_info": {
   "codemirror_mode": {
    "name": "ipython",
    "version": 3
   },
   "file_extension": ".py",
   "mimetype": "text/x-python",
   "name": "python",
   "nbconvert_exporter": "python",
   "pygments_lexer": "ipython3",
   "version": "3.8.5"
  }
 },
 "nbformat": 4,
 "nbformat_minor": 4
}
